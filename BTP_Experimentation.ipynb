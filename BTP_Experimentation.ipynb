{
  "cells": [
    {
      "cell_type": "code",
      "execution_count": 14,
      "metadata": {
        "id": "uQzghg2kHgnx"
      },
      "outputs": [],
      "source": [
        "import numpy as np\n",
        "import matplotlib.pyplot as plt\n",
        "\n",
        "measurement_matrix=np.array([\n",
        "[17.36, 0.00, 0.00, -17.36, 0.00, 0.00, 0.00, 0.00, 0.00],\n",
        "[0.00, 16.00, 0.00, 0.00, 0.00, 0.00, 0.00, -16.00, 0.00],\n",
        "[0.00, 0.00, 17.06, 0.00, 0.00, -17.06, 0.00, 0.00, 0.00],\n",
        "[-17.36, 0.00, 0.00, 40.00, -10.87, 0.00, 0.00, 0.00, -11.76],\n",
        "[0.00, 0.00, 0.00, -10.87, 16.75, -5.88, 0.00, 0.00, 0.00],\n",
        "[0.00, 0.00, -17.06, 0.00, -5.88, 32.87, -9.92, 0.00, 0.00],\n",
        "[0.00, 0.00, 0.00, 0.00, 0.00, -9.92, 23.81, -13.89, 0.00],\n",
        "[0.00, -16.00, 0.00, 0.00, 0.00, 0.00, -13.89, 36.10, -6.21],\n",
        "[0.00, 0.00, 0.00, -11.76, 0.00, 0.00, 0.00, -6.21, 17.98],\n",
        "[17.36, 0.00, 0.00, -17.36, 0.00, 0.00, 0.00, 0.00, 0.00],\n",
        "[0.00, 0.00, 0.00, 10.87, -10.87, 0.00, 0.00, 0.00, 0.00],\n",
        "[0.00, 0.00, 0.00, 0.00, 5.88, -5.88, 0.00, 0.00, 0.00],\n",
        "[0.00, 0.00, 17.06, 0.00, 0.00, -17.06, 0.00, 0.00, 0.00],\n",
        "[0.00, 0.00, 0.00, 0.00, 0.00, 9.92, -9.92, 0.00, 0.00],\n",
        "[0.00, 0.00, 0.00, 0.00, 0.00, 0.00, 13.89, -13.89, 0.00],\n",
        "[0.00, -16.00, 0.00, 0.00, 0.00, 0.00, 0.00, 16.00, 0.00],\n",
        "[0.00, 0.00, 0.00, 0.00, 0.00, 0.00, 0.00, 6.21, -6.21],\n",
        "[0.00, 0.00, 0.00, -11.76, 0.00, 0.00, 0.00, 0.00, 11.76],\n",
        "[-17.36, 0.00, 0.00, 17.36, 0.00, 0.00, 0.00, 0.00, 0.00],\n",
        "[0.00, 0.00, 0.00, -10.87, 10.87, 0.00, 0.00, 0.00, 0.00],\n",
        "[0.00, 0.00, 0.00, 0.00, -5.88, 5.88, 0.00, 0.00, 0.00],\n",
        "[0.00, 0.00, -17.06, 0.00, 0.00, 17.06, 0.00, 0.00, 0.00],\n",
        "[0.00, 0.00, 0.00, 0.00, 0.00, -9.92, 9.92, 0.00, 0.00],\n",
        "[0.00, 0.00, 0.00, 0.00, 0.00, 0.00, -13.89, 13.89, 0.00],\n",
        "[0.00, 16.00, 0.00, 0.00, 0.00, 0.00, 0.00, -16.00, 0.00],\n",
        "[0.00, 0.00, 0.00, 0.00, 0.00, 0.00, 0.00, -6.21, 6.21],\n",
        "[0.00, 0.00, 0.00, 11.76, 0.00, 0.00, 0.00, 0.00, -11.76]\n",
        "]\n",
        ")\n",
        "# print(measurement_matrix)\n"
      ]
    },
    {
      "cell_type": "code",
      "execution_count": 15,
      "metadata": {
        "colab": {
          "base_uri": "https://localhost:8080/"
        },
        "id": "RBkCs_L-USvC",
        "outputId": "e212b7b8-4a72-4b02-a5c7-cba65299f42a"
      },
      "outputs": [
        {
          "output_type": "stream",
          "name": "stdout",
          "text": [
            "[[  0]\n",
            " [  0]\n",
            " [  0]\n",
            " [  0]\n",
            " [ 90]\n",
            " [  0]\n",
            " [100]\n",
            " [  0]\n",
            " [125]]\n",
            "\n",
            "\n",
            "[[    0.  ]\n",
            " [    0.  ]\n",
            " [    0.  ]\n",
            " [-2448.3 ]\n",
            " [ 1507.5 ]\n",
            " [-1521.2 ]\n",
            " [ 2381.  ]\n",
            " [-2165.25]\n",
            " [ 2247.5 ]\n",
            " [    0.  ]\n",
            " [ -978.3 ]\n",
            " [  529.2 ]\n",
            " [    0.  ]\n",
            " [ -992.  ]\n",
            " [ 1389.  ]\n",
            " [    0.  ]\n",
            " [ -776.25]\n",
            " [ 1470.  ]\n",
            " [    0.  ]\n",
            " [  978.3 ]\n",
            " [ -529.2 ]\n",
            " [    0.  ]\n",
            " [  992.  ]\n",
            " [-1389.  ]\n",
            " [    0.  ]\n",
            " [  776.25]\n",
            " [-1470.  ]]\n"
          ]
        }
      ],
      "source": [
        "# Here the above work will be done again with data taken from case9\n",
        "state_variables = np.array([\n",
        "    [0],\n",
        "    [0],\n",
        "    [0],\n",
        "    [0],\n",
        "    [90],\n",
        "    [0],\n",
        "    [100],\n",
        "    [0],\n",
        "    [125]\n",
        "])\n",
        "measurement_vector=np.dot(measurement_matrix,state_variables)\n",
        "print(state_variables)\n",
        "\n",
        "print('\\n')\n",
        "print(measurement_vector)"
      ]
    },
    {
      "cell_type": "markdown",
      "metadata": {
        "id": "N-FRtWkDp-gL"
      },
      "source": [
        "#State Estimation"
      ]
    },
    {
      "cell_type": "code",
      "execution_count": 16,
      "metadata": {
        "colab": {
          "base_uri": "https://localhost:8080/"
        },
        "id": "zn4dwyn0X51r",
        "outputId": "179b6b74-99ea-4d4c-90c4-33d838283a0e"
      },
      "outputs": [
        {
          "output_type": "stream",
          "name": "stdout",
          "text": [
            "[[0.]\n",
            " [0.]\n",
            " [0.]\n",
            " [0.]\n",
            " [0.]\n",
            " [0.]\n",
            " [0.]\n",
            " [0.]\n",
            " [0.]\n",
            " [0.]\n",
            " [0.]\n",
            " [0.]\n",
            " [0.]\n",
            " [0.]\n",
            " [0.]\n",
            " [0.]\n",
            " [0.]\n",
            " [0.]\n",
            " [0.]\n",
            " [0.]\n",
            " [0.]\n",
            " [0.]\n",
            " [0.]\n",
            " [0.]\n",
            " [0.]\n",
            " [0.]\n",
            " [0.]]\n"
          ]
        }
      ],
      "source": [
        "# formulation interm z=Hx and start of implementation of algorithm from here\n",
        "x=state_variables\n",
        "z=measurement_vector\n",
        "H=measurement_matrix\n",
        "residuals=z-np.dot(H,x)\n",
        "# residuals is calculated with actual data and without estimating the state variables\n",
        "print(residuals)\n",
        "# print(z)"
      ]
    },
    {
      "cell_type": "code",
      "execution_count": 17,
      "metadata": {
        "colab": {
          "base_uri": "https://localhost:8080/",
          "height": 1000
        },
        "id": "3pHuAwLqv5X3",
        "outputId": "91a681b0-d351-45bb-fb30-2b38663a79d5"
      },
      "outputs": [
        {
          "output_type": "stream",
          "name": "stdout",
          "text": [
            "[[-2.87918754e-11]\n",
            " [-2.88054025e-11]\n",
            " [-2.88196134e-11]\n",
            " [-2.87982971e-11]\n",
            " [ 9.00000000e+01]\n",
            " [-2.87911917e-11]\n",
            " [ 1.00000000e+02]\n",
            " [-2.88054025e-11]\n",
            " [ 1.25000000e+02]]\n",
            "[[-1.11480947e-13]\n",
            " [ 0.00000000e+00]\n",
            " [ 4.84874363e-13]\n",
            " [-1.36424205e-12]\n",
            " [ 2.04636308e-12]\n",
            " [-1.13686838e-12]\n",
            " [ 4.54747351e-13]\n",
            " [-4.54747351e-13]\n",
            " [ 9.09494702e-13]\n",
            " [-1.11480947e-13]\n",
            " [-1.25055521e-12]\n",
            " [ 7.95807864e-13]\n",
            " [ 4.84874363e-13]\n",
            " [-3.41060513e-13]\n",
            " [ 0.00000000e+00]\n",
            " [ 0.00000000e+00]\n",
            " [-2.27373675e-13]\n",
            " [ 4.54747351e-13]\n",
            " [ 1.11480947e-13]\n",
            " [ 1.25055521e-12]\n",
            " [-7.95807864e-13]\n",
            " [-4.84874363e-13]\n",
            " [ 3.41060513e-13]\n",
            " [ 0.00000000e+00]\n",
            " [ 0.00000000e+00]\n",
            " [ 2.27373675e-13]\n",
            " [-4.54747351e-13]]\n",
            "3.803764153738447e-12\n"
          ]
        },
        {
          "output_type": "display_data",
          "data": {
            "text/plain": [
              "<Figure size 640x480 with 1 Axes>"
            ],
            "image/png": "[encoded data removed]"
          },
          "metadata": {}
        }
      ],
      "source": [
        "# Estimating the state variables and finiding the l2 norm of the residuals which will be used in BDD detection\n",
        "x_new = np.linalg.lstsq(H, z, rcond=None)[0]\n",
        "print(x_new)\n",
        "estimated_states=np.dot(H,x_new)\n",
        "r=z-np.dot(H,x_new)\n",
        "l2_norm = np.linalg.norm(r)\n",
        "print(r)\n",
        "print(l2_norm)\n",
        "\n",
        "#Ploting\n",
        "data=[]\n",
        "for i in range (len(r)):\n",
        "  for j in range (len(r[0])):\n",
        "    data.append(r[i][j])\n",
        "\n",
        "# data.append(l2_norm)\n",
        "indices = range(len(data))\n",
        "plt.bar(indices, data)\n",
        "plt.xlabel('Index')\n",
        "plt.ylabel('Residual')\n",
        "plt.title('Residual wihout injecting false data')\n",
        "plt.show()"
      ]
    },
    {
      "cell_type": "code",
      "source": [
        "# Bad data detection\n",
        "import numpy as np\n",
        "from scipy.stats import chi2\n",
        "\n",
        "# Function to compute chi-square cumulative distribution function (CDF)\n",
        "def custom_chi2_cdf(a, df):\n",
        "    return chi2.cdf(a, df)\n",
        "\n",
        "# Bad data detection using chi-square test\n",
        "def chi_square_bad_data_detection(z, estimated_states, threshold=0.05):\n",
        "    chi_square_stats = (r / np.std(r)) ** 2\n",
        "    degrees_of_freedom = len(z) - len(x)\n",
        "    p_values = custom_chi2_cdf(chi_square_stats, df=degrees_of_freedom)\n",
        "    bad_data_mask = p_values > threshold\n",
        "    return bad_data_mask\n",
        "\n",
        "\n",
        "bad_data_mask = chi_square_bad_data_detection(z, estimated_states, threshold=.05)\n",
        "print(bad_data_mask.transpose())\n"
      ],
      "metadata": {
        "colab": {
          "base_uri": "https://localhost:8080/"
        },
        "id": "iOhwhaK9OT_l",
        "outputId": "cc0d04d1-8977-4052-a11e-aa850e68862b"
      },
      "execution_count": 18,
      "outputs": [
        {
          "output_type": "stream",
          "name": "stdout",
          "text": [
            "[[False False False False False False False False False False False False\n",
            "  False False False False False False False False False False False False\n",
            "  False False False]]\n"
          ]
        }
      ]
    },
    {
      "cell_type": "code",
      "source": [
        "# Injecting the error in measurement vector\n",
        "z[4]=[1200]\n",
        "x_new = np.linalg.lstsq(H, z, rcond=None)[0]\n",
        "print(x_new)\n",
        "estimated_states=np.dot(H,x_new)\n",
        "r=z-np.dot(H,x_new)\n",
        "l2_norm = np.linalg.norm(r)\n",
        "print(r)\n",
        "print(l2_norm)\n",
        "\n",
        "#Ploting\n",
        "data=[]\n",
        "for i in range (len(r)):\n",
        "  for j in range (len(r[0])):\n",
        "    data.append(r[i][j])\n",
        "# data.append(l2_norm)\n",
        "indices = range(len(data))\n",
        "plt.bar(indices, data)\n",
        "plt.xlabel('Index')\n",
        "plt.ylabel('Residual')\n",
        "plt.title('Residual with error injection at index 4')\n",
        "plt.show()"
      ],
      "metadata": {
        "colab": {
          "base_uri": "https://localhost:8080/",
          "height": 1000
        },
        "id": "p9y_nSPJvt_Y",
        "outputId": "c22be5a1-6ef1-4d23-e41c-f0396651997c"
      },
      "execution_count": 19,
      "outputs": [
        {
          "output_type": "stream",
          "name": "stdout",
          "text": [
            "[[-4580.80451661]\n",
            " [-4578.76383931]\n",
            " [-4577.97369005]\n",
            " [-4581.00407103]\n",
            " [-4498.6743963 ]\n",
            " [-4578.23357652]\n",
            " [-4478.44778704]\n",
            " [-4578.72818998]\n",
            " [-4453.98797102]]\n",
            "[[  -3.46426472]\n",
            " [   0.57038916]\n",
            " [  -4.43366322]\n",
            " [ -10.39279414]\n",
            " [-162.73154401]\n",
            " [ -13.30098967]\n",
            " [  -1.7698285 ]\n",
            " [   1.71116748]\n",
            " [  23.69378381]\n",
            " [  -3.46426472]\n",
            " [ -83.37643569]\n",
            " [  61.39202029]\n",
            " [  -4.43366322]\n",
            " [  -2.12496836]\n",
            " [  -3.89479686]\n",
            " [  -0.57038916]\n",
            " [  -1.61324022]\n",
            " [ -23.70933612]\n",
            " [   3.46426472]\n",
            " [  83.37643569]\n",
            " [ -61.39202029]\n",
            " [   4.43366322]\n",
            " [   2.12496836]\n",
            " [   3.89479686]\n",
            " [   0.57038916]\n",
            " [   1.61324022]\n",
            " [  23.70933612]]\n",
            "223.6961103462395\n"
          ]
        },
        {
          "output_type": "display_data",
          "data": {
            "text/plain": [
              "<Figure size 640x480 with 1 Axes>"
            ],
            "image/png": "[encoded data removed]"
          },
          "metadata": {}
        }
      ]
    },
    {
      "cell_type": "code",
      "source": [
        "# Bad data detection\n",
        "import numpy as np\n",
        "from scipy.stats import chi2\n",
        "\n",
        "# Function to compute chi-square cumulative distribution function (CDF)\n",
        "def custom_chi2_cdf(a, df):\n",
        "    return chi2.cdf(a, df)\n",
        "\n",
        "# Bad data detection using chi-square test\n",
        "def chi_square_bad_data_detection(z, estimated_states, threshold=0.05):\n",
        "    chi_square_stats = (r / np.std(r)) ** 2\n",
        "    degrees_of_freedom = len(z) - len(x)\n",
        "    p_values = custom_chi2_cdf(chi_square_stats, df=degrees_of_freedom)\n",
        "    bad_data_mask = p_values > threshold\n",
        "    return bad_data_mask\n",
        "\n",
        "\n",
        "bad_data_mask = chi_square_bad_data_detection(z, estimated_states, threshold=.05)\n",
        "print(bad_data_mask.transpose())\n"
      ],
      "metadata": {
        "colab": {
          "base_uri": "https://localhost:8080/"
        },
        "id": "vdAwibH2ObH7",
        "outputId": "b748db7b-8064-461d-903f-06071ca699f9"
      },
      "execution_count": 20,
      "outputs": [
        {
          "output_type": "stream",
          "name": "stdout",
          "text": [
            "[[False False False False  True False False False False False False False\n",
            "  False False False False False False False False False False False False\n",
            "  False False False]]\n"
          ]
        }
      ]
    },
    {
      "cell_type": "code",
      "execution_count": 21,
      "metadata": {
        "colab": {
          "base_uri": "https://localhost:8080/",
          "height": 1000
        },
        "id": "p--de3ysoi36",
        "outputId": "54176ffe-c007-4a95-800c-8d6a189c407a"
      },
      "outputs": [
        {
          "output_type": "stream",
          "name": "stdout",
          "text": [
            "[[-102.7748638    96.94736943   35.65428347   73.75864642  109.49416451\n",
            "   154.71608296   63.14796285    9.85562449   15.48511808   15.22930074\n",
            "   -44.68267557  -63.12307283  -51.12292861  195.92631624 -112.04285665\n",
            "   -39.65479373  -77.28861868   38.40467891  156.05678468  -16.31348967\n",
            "   108.88003082   39.57986325 -199.68786495 -149.51183277    7.54222657\n",
            "     0.99932913  141.84908093]]\n",
            "[[ -27.26810805]\n",
            " [  77.75381066]\n",
            " [  40.29089368]\n",
            " [ -17.08208049]\n",
            " [-136.76651762]\n",
            " [ -41.13867776]\n",
            " [ 134.07624729]\n",
            " [  86.56371341]\n",
            " [  58.22075825]\n",
            " [  90.73605649]\n",
            " [-100.63868516]\n",
            " [  51.65439996]\n",
            " [ -46.4863184 ]\n",
            " [  74.46280304]\n",
            " [-162.5780854 ]\n",
            " [ -20.46123496]\n",
            " [ -70.30931728]\n",
            " [  42.94919828]\n",
            " [  80.55002893]\n",
            " [  39.64251993]\n",
            " [  -5.89744197]\n",
            " [  34.94325304]\n",
            " [ -78.22435175]\n",
            " [ -98.97660401]\n",
            " [ -11.6513322 ]\n",
            " [  -5.97997227]\n",
            " [ 137.30456156]]\n",
            "405.69655428386903\n"
          ]
        },
        {
          "output_type": "display_data",
          "data": {
            "text/plain": [
              "<Figure size 640x480 with 1 Axes>"
            ],
            "image/png": "[encoded data removed]"
          },
          "metadata": {}
        }
      ],
      "source": [
        "# Imposing gaussian random noise in measurement vector\n",
        "noise = np.random.normal(0, 100, (1,len(measurement_vector)))\n",
        "import numpy as np\n",
        "\n",
        "print(noise)\n",
        "\n",
        "n=noise.transpose()\n",
        "\n",
        "# print(n)\n",
        "z=z+n\n",
        "# print(z)\n",
        "# Now adding the noise in the range of gaussian distribution which undetectable\n",
        "z[4]=[1200]\n",
        "\n",
        "x_new = np.linalg.lstsq(H, z, rcond=None)[0]\n",
        "# print(x_new)\n",
        "\n",
        "estimated_states=np.dot(H,x_new)\n",
        "# print(z)\n",
        "# H[5] = np.zeros_like(H[5])\n",
        "estimated_states=np.dot(H,x_new)\n",
        "# print(H)\n",
        "r=z-np.dot(H,x_new)\n",
        "l2_norm = np.linalg.norm(r)\n",
        "print(r)\n",
        "print(l2_norm)\n",
        "\n",
        "#Ploting\n",
        "data=[]\n",
        "for i in range (len(r)):\n",
        "  for j in range (len(r[0])):\n",
        "    data.append(r[i][j])\n",
        "\n",
        "# data.append(l2_norm)\n",
        "indices = range(len(data))\n",
        "plt.bar(indices, data)\n",
        "plt.xlabel('Index')\n",
        "plt.ylabel('Residual')\n",
        "plt.title('Residual with gaussian noise added and targeted value change within its range')\n",
        "plt.show()"
      ]
    },
    {
      "cell_type": "code",
      "source": [
        "# Bad data detection\n",
        "import numpy as np\n",
        "from scipy.stats import chi2\n",
        "\n",
        "# Function to compute chi-square cumulative distribution function (CDF)\n",
        "def custom_chi2_cdf(a, df):\n",
        "    return chi2.cdf(a, df)\n",
        "\n",
        "# Bad data detection using chi-square test\n",
        "def chi_square_bad_data_detection(z, estimated_states, threshold=0.05):\n",
        "    chi_square_stats = (r / np.std(r)) ** 2\n",
        "    degrees_of_freedom = len(z) - len(x)\n",
        "    p_values = custom_chi2_cdf(chi_square_stats, df=degrees_of_freedom)\n",
        "    bad_data_mask = p_values > threshold\n",
        "    return bad_data_mask\n",
        "\n",
        "\n",
        "bad_data_mask = chi_square_bad_data_detection(z, estimated_states, threshold=.05)\n",
        "print(bad_data_mask.transpose())\n"
      ],
      "metadata": {
        "colab": {
          "base_uri": "https://localhost:8080/"
        },
        "id": "g__rkywTOSTD",
        "outputId": "21488d6c-00e4-45e3-e05a-0173ccc94a86"
      },
      "execution_count": 22,
      "outputs": [
        {
          "output_type": "stream",
          "name": "stdout",
          "text": [
            "[[False False False False False False False False False False False False\n",
            "  False False False False False False False False False False False False\n",
            "  False False False]]\n"
          ]
        }
      ]
    },
    {
      "cell_type": "code",
      "source": [
        "# Injecting false data in measurement vector out of the range of gaussian distribution\n",
        "H[4]=[0]\n",
        "x_new = np.linalg.lstsq(H, z, rcond=None)[0]\n",
        "print(x_new)\n",
        "estimated_states=np.dot(H,x_new)\n",
        "r=z-np.dot(H,x_new)\n",
        "l2_norm = np.linalg.norm(r)\n",
        "print(r)\n",
        "print(l2_norm)\n",
        "\n",
        "#Ploting\n",
        "data=[]\n",
        "for i in range (len(r)):\n",
        "  for j in range (len(r[0])):\n",
        "    data.append(r[i][j])\n",
        "\n",
        "# data.append(l2_norm)\n",
        "indices = range(len(data))\n",
        "plt.bar(indices, data)\n",
        "plt.xlabel('Index')\n",
        "plt.ylabel('Residual')\n",
        "plt.title('Residual after changing measurement matrix')\n",
        "plt.show()"
      ],
      "metadata": {
        "colab": {
          "base_uri": "https://localhost:8080/",
          "height": 1000
        },
        "id": "Lma0OneF3Ol8",
        "outputId": "d6f0eb86-0fdf-4955-aeb1-a4cc1d4efd65"
      },
      "execution_count": 23,
      "outputs": [
        {
          "output_type": "stream",
          "name": "stdout",
          "text": [
            "[[-671.10211181]\n",
            " [-668.77843876]\n",
            " [-655.03134262]\n",
            " [-666.58493028]\n",
            " [-575.28620935]\n",
            " [-654.54114042]\n",
            " [-566.60541455]\n",
            " [-670.00799739]\n",
            " [-543.66578529]]\n",
            "[[-2.43565925e+01]\n",
            " [ 7.72744313e+01]\n",
            " [ 4.40171330e+01]\n",
            " [-8.34753384e+00]\n",
            " [ 1.20000000e+03]\n",
            " [-2.99599598e+01]\n",
            " [ 1.35563687e+02]\n",
            " [ 8.51255754e+01]\n",
            " [ 3.83074936e+01]\n",
            " [ 9.36475720e+01]\n",
            " [-3.05655790e+01]\n",
            " [ 5.79324446e-02]\n",
            " [-4.27600791e+01]\n",
            " [ 7.62487169e+01]\n",
            " [-1.59304732e+02]\n",
            " [-1.99818556e+01]\n",
            " [-6.89534815e+01]\n",
            " [ 6.28755337e+01]\n",
            " [ 7.76385134e+01]\n",
            " [-3.04305862e+01]\n",
            " [ 4.56990255e+01]\n",
            " [ 3.12170137e+01]\n",
            " [-8.00102656e+01]\n",
            " [-1.02249957e+02]\n",
            " [-1.21307115e+01]\n",
            " [-7.33580803e+00]\n",
            " [ 1.17378226e+02]]\n",
            "1252.6948111666718\n"
          ]
        },
        {
          "output_type": "display_data",
          "data": {
            "text/plain": [
              "<Figure size 640x480 with 1 Axes>"
            ],
            "image/png": "[encoded data removed]"
          },
          "metadata": {}
        }
      ]
    },
    {
      "cell_type": "code",
      "source": [
        "# Bad data detection\n",
        "import numpy as np\n",
        "from scipy.stats import chi2\n",
        "\n",
        "# Function to compute chi-square cumulative distribution function (CDF)\n",
        "def custom_chi2_cdf(a, df):\n",
        "    return chi2.cdf(a, df)\n",
        "\n",
        "# Bad data detection using chi-square test\n",
        "def chi_square_bad_data_detection(z, estimated_states, threshold=0.05):\n",
        "    chi_square_stats = (r / np.std(r)) ** 2\n",
        "    degrees_of_freedom = len(z) - len(x)\n",
        "    p_values = custom_chi2_cdf(chi_square_stats, df=degrees_of_freedom)\n",
        "    bad_data_mask = p_values > threshold\n",
        "    return bad_data_mask\n",
        "\n",
        "\n",
        "bad_data_mask = chi_square_bad_data_detection(z, estimated_states, threshold=.05)\n",
        "print(bad_data_mask.transpose())\n"
      ],
      "metadata": {
        "colab": {
          "base_uri": "https://localhost:8080/"
        },
        "id": "Dz-LYstxOJLg",
        "outputId": "dfe61e2f-e0e4-4ae7-ed66-a08d4f7d9c50"
      },
      "execution_count": 24,
      "outputs": [
        {
          "output_type": "stream",
          "name": "stdout",
          "text": [
            "[[False False False False  True False False False False False False False\n",
            "  False False False False False False False False False False False False\n",
            "  False False False]]\n"
          ]
        }
      ]
    },
    {
      "cell_type": "markdown",
      "metadata": {
        "id": "xeyio-v6p2kS"
      },
      "source": [
        "#FDIA"
      ]
    },
    {
      "cell_type": "code",
      "source": [
        "\n",
        "# Hiding the change in the topology by changing the measurement vector\n",
        "z[4]=[200]\n",
        "x_new = np.linalg.lstsq(H, z, rcond=None)[0]\n",
        "print(x_new)\n",
        "estimated_states=np.dot(H,x_new)\n",
        "r=z-np.dot(H,x_new)\n",
        "l2_norm = np.linalg.norm(r)\n",
        "print(r)\n",
        "print(l2_norm)\n",
        "\n",
        "#Ploting\n",
        "data=[]\n",
        "for i in range (len(r)):\n",
        "  for j in range (len(r[0])):\n",
        "    data.append(r[i][j])\n",
        "\n",
        "# data.append(l2_norm)\n",
        "indices = range(len(data))\n",
        "plt.bar(indices, data)\n",
        "plt.xlabel('Index')\n",
        "plt.ylabel('Residual')\n",
        "plt.title('Residual after hiding topology change effect by changing measurement vector')\n",
        "plt.show()"
      ],
      "metadata": {
        "colab": {
          "base_uri": "https://localhost:8080/",
          "height": 1000
        },
        "id": "_mF7gccCzUJi",
        "outputId": "cbe8db11-a531-4da2-e91a-1a7125613313"
      },
      "execution_count": 25,
      "outputs": [
        {
          "output_type": "stream",
          "name": "stdout",
          "text": [
            "[[-671.1021118 ]\n",
            " [-668.77843875]\n",
            " [-655.03134261]\n",
            " [-666.58493027]\n",
            " [-575.28620934]\n",
            " [-654.54114041]\n",
            " [-566.60541454]\n",
            " [-670.00799738]\n",
            " [-543.66578528]]\n",
            "[[-2.43565925e+01]\n",
            " [ 7.72744313e+01]\n",
            " [ 4.40171330e+01]\n",
            " [-8.34753384e+00]\n",
            " [ 2.00000000e+02]\n",
            " [-2.99599598e+01]\n",
            " [ 1.35563687e+02]\n",
            " [ 8.51255754e+01]\n",
            " [ 3.83074936e+01]\n",
            " [ 9.36475720e+01]\n",
            " [-3.05655790e+01]\n",
            " [ 5.79324446e-02]\n",
            " [-4.27600791e+01]\n",
            " [ 7.62487169e+01]\n",
            " [-1.59304732e+02]\n",
            " [-1.99818556e+01]\n",
            " [-6.89534815e+01]\n",
            " [ 6.28755337e+01]\n",
            " [ 7.76385134e+01]\n",
            " [-3.04305862e+01]\n",
            " [ 4.56990255e+01]\n",
            " [ 3.12170137e+01]\n",
            " [-8.00102656e+01]\n",
            " [-1.02249957e+02]\n",
            " [-1.21307115e+01]\n",
            " [-7.33580803e+00]\n",
            " [ 1.17378226e+02]]\n",
            "411.39310874624897\n"
          ]
        },
        {
          "output_type": "display_data",
          "data": {
            "text/plain": [
              "<Figure size 640x480 with 1 Axes>"
            ],
            "image/png": "[encoded data removed]"
          },
          "metadata": {}
        }
      ]
    },
    {
      "cell_type": "code",
      "execution_count": 26,
      "metadata": {
        "colab": {
          "base_uri": "https://localhost:8080/"
        },
        "id": "CyHC3HynQwEE",
        "outputId": "6b572088-d2d6-43e5-d4aa-65087148ac90"
      },
      "outputs": [
        {
          "output_type": "stream",
          "name": "stdout",
          "text": [
            "[[False False False False False False False False False False False False\n",
            "  False False False False False False False False False False False False\n",
            "  False False False]]\n"
          ]
        }
      ],
      "source": [
        "import numpy as np\n",
        "from scipy.stats import chi2\n",
        "\n",
        "# Function to compute chi-square cumulative distribution function (CDF)\n",
        "def custom_chi2_cdf(a, df):\n",
        "    return chi2.cdf(a, df)\n",
        "\n",
        "# Bad data detection using chi-square test\n",
        "def chi_square_bad_data_detection(z, estimated_states, threshold=0.05):\n",
        "    chi_square_stats = (r / np.std(r)) ** 2\n",
        "    degrees_of_freedom = len(z) - len(x)\n",
        "    p_values = custom_chi2_cdf(chi_square_stats, df=degrees_of_freedom)\n",
        "    bad_data_mask = p_values > threshold\n",
        "    return bad_data_mask\n",
        "\n",
        "bad_data_mask = chi_square_bad_data_detection(z, estimated_states, threshold=.05)\n",
        "print(bad_data_mask.transpose())\n"
      ]
    }
  ],
  "metadata": {
    "colab": {
      "provenance": []
    },
    "kernelspec": {
      "display_name": "Python 3",
      "name": "python3"
    },
    "language_info": {
      "name": "python"
    }
  },
  "nbformat": 4,
  "nbformat_minor": 0
}